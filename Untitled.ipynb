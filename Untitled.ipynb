{
 "cells": [
  {
   "cell_type": "code",
   "execution_count": 9,
   "id": "675370ed",
   "metadata": {},
   "outputs": [],
   "source": [
    "#from keras.model import Sequential\n",
    "from tensorflow.keras.models import Sequential\n",
    "from tensorflow.keras.layers import Conv2D , MaxPooling2D , Dense , Dropout , Flatten\n",
    "from tensorflow.keras.optimizers import Adam\n",
    "\n",
    "\n",
    "from tensorflow.keras.preprocessing.image import ImageDataGenerator"
   ]
  },
  {
   "cell_type": "code",
   "execution_count": 10,
   "id": "a6c113e2",
   "metadata": {},
   "outputs": [],
   "source": [
    "train_data_gen=ImageDataGenerator(rescale=1./255)\n",
    "validation_data_gen=ImageDataGenerator(rescale=1./255)"
   ]
  },
  {
   "cell_type": "code",
   "execution_count": 11,
   "id": "eb1db65b",
   "metadata": {},
   "outputs": [
    {
     "name": "stdout",
     "output_type": "stream",
     "text": [
      "Found 28709 images belonging to 7 classes.\n"
     ]
    }
   ],
   "source": [
    "train_generator=train_data_gen.flow_from_directory('train' , target_size=(48,48) , batch_size=64 , color_mode='grayscale' , class_mode='categorical')"
   ]
  },
  {
   "cell_type": "code",
   "execution_count": 12,
   "id": "bfe4267b",
   "metadata": {},
   "outputs": [
    {
     "name": "stdout",
     "output_type": "stream",
     "text": [
      "Found 7178 images belonging to 7 classes.\n"
     ]
    }
   ],
   "source": [
    "validation_generator= validation_data_gen.flow_from_directory('test' , target_size=(48,48) , batch_size=64 , color_mode='grayscale' , class_mode='categorical')"
   ]
  },
  {
   "cell_type": "code",
   "execution_count": 13,
   "id": "8b98d676",
   "metadata": {},
   "outputs": [],
   "source": [
    "emotion_model=Sequential()"
   ]
  },
  {
   "cell_type": "code",
   "execution_count": 14,
   "id": "b4dcbdf3",
   "metadata": {},
   "outputs": [],
   "source": [
    "emotion_model.add(Conv2D(32 , kernel_size=(3,3) , activation='relu' , input_shape=(48,48,1)))\n",
    "emotion_model.add(Conv2D(64 , kernel_size=(3,3) , activation='relu'))\n",
    "emotion_model.add(MaxPooling2D(pool_size=(2,2)))\n",
    "emotion_model.add(Dropout(0.25))"
   ]
  },
  {
   "cell_type": "code",
   "execution_count": 15,
   "id": "d73ab49d",
   "metadata": {},
   "outputs": [],
   "source": [
    "emotion_model.add(Conv2D(128 , kernel_size=(3,3) , activation='relu'))\n",
    "emotion_model.add(MaxPooling2D(pool_size=(2,2)))\n",
    "emotion_model.add(Conv2D(128 , kernel_size=(3,3) , activation='relu'))\n",
    "emotion_model.add(MaxPooling2D(pool_size=(2,2)))\n",
    "emotion_model.add(Dropout(0.25))"
   ]
  },
  {
   "cell_type": "code",
   "execution_count": 16,
   "id": "0c789615",
   "metadata": {},
   "outputs": [],
   "source": [
    "emotion_model.add(Flatten())\n",
    "emotion_model.add(Dense(1024 , activation='relu'))\n",
    "emotion_model.add(Dropout(0.5))\n",
    "emotion_model.add(Dense(7,activation='softmax'))"
   ]
  },
  {
   "cell_type": "code",
   "execution_count": null,
   "id": "fc283d60",
   "metadata": {},
   "outputs": [],
   "source": [
    "\n",
    "\n"
   ]
  },
  {
   "cell_type": "code",
   "execution_count": null,
   "id": "a608c3a4",
   "metadata": {},
   "outputs": [],
   "source": []
  },
  {
   "cell_type": "code",
   "execution_count": 18,
   "id": "d8afa032",
   "metadata": {},
   "outputs": [],
   "source": [
    "emotion_model.compile(loss=\"categorical_crossentropy\" , optimizer=\"Adam\", metrics=['accuracy'])"
   ]
  },
  {
   "cell_type": "code",
   "execution_count": 20,
   "id": "df5609ca",
   "metadata": {},
   "outputs": [
    {
     "name": "stderr",
     "output_type": "stream",
     "text": [
      "C:\\Users\\91865\\AppData\\Local\\Temp\\ipykernel_17516\\1430270379.py:1: UserWarning: `Model.fit_generator` is deprecated and will be removed in a future version. Please use `Model.fit`, which supports generators.\n",
      "  emotion_model_info=emotion_model.fit_generator(train_generator , steps_per_epoch=28709//64 , epochs=50 , validation_data=validation_generator , validation_steps=7178//64)\n"
     ]
    },
    {
     "name": "stdout",
     "output_type": "stream",
     "text": [
      "Epoch 1/50\n",
      "448/448 [==============================] - 378s 841ms/step - loss: 1.7239 - accuracy: 0.3020 - val_loss: 1.5192 - val_accuracy: 0.4135\n",
      "Epoch 2/50\n",
      "448/448 [==============================] - 112s 251ms/step - loss: 1.4469 - accuracy: 0.4413 - val_loss: 1.3275 - val_accuracy: 0.4900\n",
      "Epoch 3/50\n",
      "448/448 [==============================] - 260s 580ms/step - loss: 1.3082 - accuracy: 0.4968 - val_loss: 1.2395 - val_accuracy: 0.5286\n",
      "Epoch 4/50\n",
      "448/448 [==============================] - 545s 1s/step - loss: 1.2323 - accuracy: 0.5340 - val_loss: 1.1963 - val_accuracy: 0.5485\n",
      "Epoch 5/50\n",
      "448/448 [==============================] - 355s 792ms/step - loss: 1.1770 - accuracy: 0.5519 - val_loss: 1.1645 - val_accuracy: 0.5565\n",
      "Epoch 6/50\n",
      "448/448 [==============================] - 130s 290ms/step - loss: 1.1322 - accuracy: 0.5722 - val_loss: 1.1241 - val_accuracy: 0.5746\n",
      "Epoch 7/50\n",
      "448/448 [==============================] - 132s 293ms/step - loss: 1.0935 - accuracy: 0.5842 - val_loss: 1.1111 - val_accuracy: 0.5784\n",
      "Epoch 8/50\n",
      "448/448 [==============================] - 141s 314ms/step - loss: 1.0492 - accuracy: 0.6034 - val_loss: 1.1068 - val_accuracy: 0.5804\n",
      "Epoch 9/50\n",
      "448/448 [==============================] - 134s 299ms/step - loss: 1.0202 - accuracy: 0.6145 - val_loss: 1.0750 - val_accuracy: 0.5979\n",
      "Epoch 10/50\n",
      "448/448 [==============================] - 147s 328ms/step - loss: 0.9866 - accuracy: 0.6292 - val_loss: 1.0744 - val_accuracy: 0.5985\n",
      "Epoch 11/50\n",
      "448/448 [==============================] - 150s 335ms/step - loss: 0.9548 - accuracy: 0.6440 - val_loss: 1.0630 - val_accuracy: 0.5992\n",
      "Epoch 12/50\n",
      "448/448 [==============================] - 152s 339ms/step - loss: 0.9251 - accuracy: 0.6550 - val_loss: 1.0646 - val_accuracy: 0.5992\n",
      "Epoch 13/50\n",
      "448/448 [==============================] - 145s 323ms/step - loss: 0.8922 - accuracy: 0.6640 - val_loss: 1.0667 - val_accuracy: 0.6051\n",
      "Epoch 14/50\n",
      "448/448 [==============================] - 133s 296ms/step - loss: 0.8641 - accuracy: 0.6775 - val_loss: 1.0728 - val_accuracy: 0.6037\n",
      "Epoch 15/50\n",
      "448/448 [==============================] - 129s 288ms/step - loss: 0.8319 - accuracy: 0.6889 - val_loss: 1.0662 - val_accuracy: 0.6069\n",
      "Epoch 16/50\n",
      "448/448 [==============================] - 129s 287ms/step - loss: 0.8071 - accuracy: 0.6994 - val_loss: 1.0539 - val_accuracy: 0.6164\n",
      "Epoch 17/50\n",
      "448/448 [==============================] - 127s 284ms/step - loss: 0.7842 - accuracy: 0.7075 - val_loss: 1.0654 - val_accuracy: 0.6154\n",
      "Epoch 18/50\n",
      "448/448 [==============================] - 127s 282ms/step - loss: 0.7553 - accuracy: 0.7175 - val_loss: 1.0696 - val_accuracy: 0.6168\n",
      "Epoch 19/50\n",
      "448/448 [==============================] - 122s 273ms/step - loss: 0.7353 - accuracy: 0.7255 - val_loss: 1.0677 - val_accuracy: 0.6187\n",
      "Epoch 20/50\n",
      "448/448 [==============================] - 126s 281ms/step - loss: 0.7222 - accuracy: 0.7299 - val_loss: 1.0875 - val_accuracy: 0.6157\n",
      "Epoch 21/50\n",
      "448/448 [==============================] - 126s 281ms/step - loss: 0.6985 - accuracy: 0.7408 - val_loss: 1.0808 - val_accuracy: 0.6215\n",
      "Epoch 22/50\n",
      "448/448 [==============================] - 126s 280ms/step - loss: 0.6795 - accuracy: 0.7490 - val_loss: 1.1047 - val_accuracy: 0.6152\n",
      "Epoch 23/50\n",
      "448/448 [==============================] - 124s 276ms/step - loss: 0.6578 - accuracy: 0.7575 - val_loss: 1.0950 - val_accuracy: 0.6170\n",
      "Epoch 24/50\n",
      "448/448 [==============================] - 123s 275ms/step - loss: 0.6480 - accuracy: 0.7601 - val_loss: 1.0941 - val_accuracy: 0.6196\n",
      "Epoch 25/50\n",
      "448/448 [==============================] - 128s 286ms/step - loss: 0.6270 - accuracy: 0.7690 - val_loss: 1.0988 - val_accuracy: 0.6162\n",
      "Epoch 26/50\n",
      "448/448 [==============================] - 123s 275ms/step - loss: 0.6138 - accuracy: 0.7742 - val_loss: 1.1026 - val_accuracy: 0.6150\n",
      "Epoch 27/50\n",
      "448/448 [==============================] - 123s 274ms/step - loss: 0.6055 - accuracy: 0.7762 - val_loss: 1.1080 - val_accuracy: 0.6133\n",
      "Epoch 28/50\n",
      "448/448 [==============================] - 122s 273ms/step - loss: 0.5876 - accuracy: 0.7836 - val_loss: 1.1055 - val_accuracy: 0.6228\n",
      "Epoch 29/50\n",
      "448/448 [==============================] - 122s 273ms/step - loss: 0.5750 - accuracy: 0.7879 - val_loss: 1.1248 - val_accuracy: 0.6186\n",
      "Epoch 30/50\n",
      "448/448 [==============================] - 122s 272ms/step - loss: 0.5645 - accuracy: 0.7909 - val_loss: 1.1223 - val_accuracy: 0.6218\n",
      "Epoch 31/50\n",
      "448/448 [==============================] - 122s 272ms/step - loss: 0.5542 - accuracy: 0.7976 - val_loss: 1.1461 - val_accuracy: 0.6225\n",
      "Epoch 32/50\n",
      "448/448 [==============================] - 126s 280ms/step - loss: 0.5477 - accuracy: 0.8013 - val_loss: 1.1686 - val_accuracy: 0.6189\n",
      "Epoch 33/50\n",
      "448/448 [==============================] - 123s 275ms/step - loss: 0.5360 - accuracy: 0.8031 - val_loss: 1.1498 - val_accuracy: 0.6222\n",
      "Epoch 34/50\n",
      "448/448 [==============================] - 125s 279ms/step - loss: 0.5229 - accuracy: 0.8106 - val_loss: 1.1515 - val_accuracy: 0.6179\n",
      "Epoch 35/50\n",
      "448/448 [==============================] - 124s 277ms/step - loss: 0.5185 - accuracy: 0.8103 - val_loss: 1.1166 - val_accuracy: 0.6233\n",
      "Epoch 36/50\n",
      "448/448 [==============================] - 124s 276ms/step - loss: 0.4996 - accuracy: 0.8160 - val_loss: 1.1911 - val_accuracy: 0.6136\n",
      "Epoch 37/50\n",
      "448/448 [==============================] - 123s 274ms/step - loss: 0.5041 - accuracy: 0.8139 - val_loss: 1.1804 - val_accuracy: 0.6207\n",
      "Epoch 38/50\n",
      "448/448 [==============================] - 123s 274ms/step - loss: 0.4862 - accuracy: 0.8229 - val_loss: 1.1893 - val_accuracy: 0.6270\n",
      "Epoch 39/50\n",
      "448/448 [==============================] - 123s 275ms/step - loss: 0.4870 - accuracy: 0.8247 - val_loss: 1.2004 - val_accuracy: 0.6151\n",
      "Epoch 40/50\n",
      "448/448 [==============================] - 127s 284ms/step - loss: 0.4790 - accuracy: 0.8260 - val_loss: 1.2024 - val_accuracy: 0.6219\n",
      "Epoch 41/50\n",
      "448/448 [==============================] - 123s 275ms/step - loss: 0.4708 - accuracy: 0.8276 - val_loss: 1.1910 - val_accuracy: 0.6179\n",
      "Epoch 42/50\n",
      "448/448 [==============================] - 123s 275ms/step - loss: 0.4667 - accuracy: 0.8306 - val_loss: 1.1823 - val_accuracy: 0.6215\n",
      "Epoch 43/50\n",
      "448/448 [==============================] - 123s 274ms/step - loss: 0.4580 - accuracy: 0.8347 - val_loss: 1.1971 - val_accuracy: 0.6246\n",
      "Epoch 44/50\n",
      "448/448 [==============================] - 122s 273ms/step - loss: 0.4563 - accuracy: 0.8335 - val_loss: 1.1980 - val_accuracy: 0.6189\n",
      "Epoch 45/50\n",
      "448/448 [==============================] - 123s 275ms/step - loss: 0.4520 - accuracy: 0.8353 - val_loss: 1.1858 - val_accuracy: 0.6225\n",
      "Epoch 46/50\n",
      "448/448 [==============================] - 123s 275ms/step - loss: 0.4457 - accuracy: 0.8384 - val_loss: 1.1819 - val_accuracy: 0.6170\n",
      "Epoch 47/50\n",
      "448/448 [==============================] - 127s 282ms/step - loss: 0.4378 - accuracy: 0.8416 - val_loss: 1.2123 - val_accuracy: 0.6166\n",
      "Epoch 48/50\n",
      "448/448 [==============================] - 123s 274ms/step - loss: 0.4287 - accuracy: 0.8483 - val_loss: 1.1834 - val_accuracy: 0.6214\n",
      "Epoch 49/50\n",
      "448/448 [==============================] - 123s 275ms/step - loss: 0.4284 - accuracy: 0.8443 - val_loss: 1.2265 - val_accuracy: 0.6242\n",
      "Epoch 50/50\n",
      "448/448 [==============================] - 124s 276ms/step - loss: 0.4246 - accuracy: 0.8471 - val_loss: 1.2375 - val_accuracy: 0.6201\n"
     ]
    }
   ],
   "source": [
    "emotion_model_info=emotion_model.fit_generator(train_generator , steps_per_epoch=28709//64 , epochs=50 , validation_data=validation_generator , validation_steps=7178//64)"
   ]
  },
  {
   "cell_type": "code",
   "execution_count": 21,
   "id": "e993f887",
   "metadata": {},
   "outputs": [
    {
     "name": "stdout",
     "output_type": "stream",
     "text": [
      "Epoch 1/20\n"
     ]
    },
    {
     "name": "stderr",
     "output_type": "stream",
     "text": [
      "C:\\Users\\91865\\AppData\\Local\\Temp\\ipykernel_17516\\1763150689.py:1: UserWarning: `Model.fit_generator` is deprecated and will be removed in a future version. Please use `Model.fit`, which supports generators.\n",
      "  emotion_model_info=emotion_model.fit_generator(train_generator , steps_per_epoch=28709//64 , epochs=20 , validation_data=validation_generator , validation_steps=7178//64)\n"
     ]
    },
    {
     "name": "stdout",
     "output_type": "stream",
     "text": [
      "448/448 [==============================] - 107s 238ms/step - loss: 0.4083 - accuracy: 0.8526 - val_loss: 1.2551 - val_accuracy: 0.6221\n",
      "Epoch 2/20\n",
      "448/448 [==============================] - 119s 266ms/step - loss: 0.4125 - accuracy: 0.8514 - val_loss: 1.2826 - val_accuracy: 0.6254\n",
      "Epoch 3/20\n",
      "448/448 [==============================] - 123s 273ms/step - loss: 0.4032 - accuracy: 0.8562 - val_loss: 1.2984 - val_accuracy: 0.6179\n",
      "Epoch 4/20\n",
      "448/448 [==============================] - 122s 272ms/step - loss: 0.4068 - accuracy: 0.8521 - val_loss: 1.2580 - val_accuracy: 0.6180\n",
      "Epoch 5/20\n",
      "448/448 [==============================] - 126s 281ms/step - loss: 0.3963 - accuracy: 0.8597 - val_loss: 1.2853 - val_accuracy: 0.6187\n",
      "Epoch 6/20\n",
      "448/448 [==============================] - 122s 272ms/step - loss: 0.3933 - accuracy: 0.8595 - val_loss: 1.2285 - val_accuracy: 0.6271\n",
      "Epoch 7/20\n",
      "448/448 [==============================] - 123s 275ms/step - loss: 0.3967 - accuracy: 0.8592 - val_loss: 1.2545 - val_accuracy: 0.6180\n",
      "Epoch 8/20\n",
      "448/448 [==============================] - 126s 281ms/step - loss: 0.3839 - accuracy: 0.8618 - val_loss: 1.2461 - val_accuracy: 0.6197\n",
      "Epoch 9/20\n",
      "448/448 [==============================] - 125s 279ms/step - loss: 0.3782 - accuracy: 0.8637 - val_loss: 1.2531 - val_accuracy: 0.6218\n",
      "Epoch 10/20\n",
      "448/448 [==============================] - 124s 276ms/step - loss: 0.3875 - accuracy: 0.8603 - val_loss: 1.2414 - val_accuracy: 0.6201\n",
      "Epoch 11/20\n",
      "448/448 [==============================] - 122s 273ms/step - loss: 0.3736 - accuracy: 0.8659 - val_loss: 1.3074 - val_accuracy: 0.6271\n",
      "Epoch 12/20\n",
      "448/448 [==============================] - 125s 279ms/step - loss: 0.3803 - accuracy: 0.8630 - val_loss: 1.3204 - val_accuracy: 0.6173\n",
      "Epoch 13/20\n",
      "448/448 [==============================] - 124s 277ms/step - loss: 0.3708 - accuracy: 0.8692 - val_loss: 1.3061 - val_accuracy: 0.6191\n",
      "Epoch 14/20\n",
      "448/448 [==============================] - 122s 272ms/step - loss: 0.3597 - accuracy: 0.8726 - val_loss: 1.2747 - val_accuracy: 0.6194\n",
      "Epoch 15/20\n",
      "448/448 [==============================] - 123s 275ms/step - loss: 0.3661 - accuracy: 0.8710 - val_loss: 1.2840 - val_accuracy: 0.6204\n",
      "Epoch 16/20\n",
      "448/448 [==============================] - 126s 280ms/step - loss: 0.3584 - accuracy: 0.8720 - val_loss: 1.3171 - val_accuracy: 0.6201\n",
      "Epoch 17/20\n",
      "448/448 [==============================] - 122s 272ms/step - loss: 0.3627 - accuracy: 0.8713 - val_loss: 1.3355 - val_accuracy: 0.6158\n",
      "Epoch 18/20\n",
      "448/448 [==============================] - 122s 273ms/step - loss: 0.3520 - accuracy: 0.8749 - val_loss: 1.3173 - val_accuracy: 0.6200\n",
      "Epoch 19/20\n",
      "448/448 [==============================] - 153s 341ms/step - loss: 0.3520 - accuracy: 0.8732 - val_loss: 1.3366 - val_accuracy: 0.6193\n",
      "Epoch 20/20\n",
      "448/448 [==============================] - 348s 779ms/step - loss: 0.3446 - accuracy: 0.8765 - val_loss: 1.2743 - val_accuracy: 0.6237\n"
     ]
    }
   ],
   "source": [
    "emotion_model_info=emotion_model.fit_generator(train_generator , steps_per_epoch=28709//64 , epochs=20 , validation_data=validation_generator , validation_steps=7178//64)"
   ]
  },
  {
   "cell_type": "code",
   "execution_count": 22,
   "id": "bc8f0da1",
   "metadata": {},
   "outputs": [],
   "source": [
    "model_json=emotion_model.to_json()\n",
    "with open(\"emotion_model.json\" , \"w\") as json_file:\n",
    "    json_file.write(model_json)"
   ]
  },
  {
   "cell_type": "code",
   "execution_count": 23,
   "id": "2f552ffd",
   "metadata": {},
   "outputs": [],
   "source": [
    "emotion_model.save_weights('emotion_model.h5')"
   ]
  },
  {
   "cell_type": "code",
   "execution_count": null,
   "id": "17b4db7a",
   "metadata": {},
   "outputs": [],
   "source": []
  }
 ],
 "metadata": {
  "kernelspec": {
   "display_name": "Python 3 (ipykernel)",
   "language": "python",
   "name": "python3"
  },
  "language_info": {
   "codemirror_mode": {
    "name": "ipython",
    "version": 3
   },
   "file_extension": ".py",
   "mimetype": "text/x-python",
   "name": "python",
   "nbconvert_exporter": "python",
   "pygments_lexer": "ipython3",
   "version": "3.10.9"
  }
 },
 "nbformat": 4,
 "nbformat_minor": 5
}
